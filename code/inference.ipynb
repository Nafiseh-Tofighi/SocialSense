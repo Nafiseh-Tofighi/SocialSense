{
  "nbformat": 4,
  "nbformat_minor": 0,
  "metadata": {
    "colab": {
      "provenance": []
    },
    "kernelspec": {
      "name": "python3",
      "display_name": "Python 3"
    },
    "language_info": {
      "name": "python"
    }
  },
  "cells": [
    {
      "cell_type": "code",
      "execution_count": null,
      "metadata": {
        "id": "k2khOPJrIjHw"
      },
      "outputs": [],
      "source": [
        "import torch\n",
        "from transformers import AutoModelForSequenceClassification, AutoTokenizer\n",
        "\n",
        "# Load the fine-tuned model and tokenizer\n",
        "model = AutoModelForSequenceClassification.from_pretrained(\"fine-tuned-bert-imdb\")\n",
        "tokenizer = AutoTokenizer.from_pretrained(\"fine-tuned-bert-imdb\")\n",
        "\n",
        "# Set the device\n",
        "device = torch.device(\"cuda\" if torch.cuda.is_available() else \"cpu\")\n",
        "model.to(device)\n",
        "\n",
        "# Define a function to perform sentiment analysis\n",
        "def classify_comments(comments):\n",
        "    inputs = tokenizer(comments, padding=True, truncation=True, return_tensors=\"pt\").to(device)\n",
        "    with torch.no_grad():\n",
        "        outputs = model(**inputs)\n",
        "    predictions = torch.argmax(outputs.logits, dim=-1)\n",
        "    return predictions.cpu().numpy()\n",
        "\n",
        "# Test the model\n",
        "comments = [\n",
        "    \"I love this product! It works really well.\",\n",
        "    \"This is the worst experience I've ever had.\",\n",
        "    \"Absolutely fantastic service!\",\n",
        "    \"I am not satisfied with the quality of this item.\",\n",
        "    \"Great value for the price.\",\n",
        "    \"I wouldn't recommend this to anyone.\"\n",
        "]\n",
        "\n",
        "# Classify the comments\n",
        "predictions = classify_comments(comments)\n",
        "\n",
        "# Convert predictions to labels\n",
        "labels = ['negative', 'positive']  # Adjust based on your model's output\n",
        "results = [labels[prediction] for prediction in predictions]\n",
        "\n",
        "for comment, result in zip(comments, results):\n",
        "    print(f\"Comment: {comment}\")\n",
        "    print(f\"Sentiment: {result}\")\n"
      ]
    }
  ]
}