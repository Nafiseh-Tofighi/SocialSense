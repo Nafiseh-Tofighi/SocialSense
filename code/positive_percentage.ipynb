{
  "nbformat": 4,
  "nbformat_minor": 0,
  "metadata": {
    "colab": {
      "provenance": []
    },
    "kernelspec": {
      "name": "python3",
      "display_name": "Python 3"
    },
    "language_info": {
      "name": "python"
    }
  },
  "cells": [
    {
      "cell_type": "code",
      "execution_count": null,
      "metadata": {
        "id": "aESZwABdMaxW"
      },
      "outputs": [],
      "source": [
        "import os\n",
        "import pandas as pd\n",
        "\n",
        "# Directory where the CSV files are stored\n",
        "directory = '/content'\n",
        "\n",
        "# Prepare a list to collect results\n",
        "results_summary = []\n",
        "\n",
        "# Iterate over counters \"001\" to \"100\"\n",
        "for counter in range(1, 101):\n",
        "    counter_str = f\"{counter:03}\"  # Format counter with leading zeros\n",
        "\n",
        "    filename = f\"{counter_str}.csv\"\n",
        "    file_path = os.path.join(directory, filename)\n",
        "\n",
        "    if os.path.exists(file_path):\n",
        "        # Read the CSV file\n",
        "        df = pd.read_csv(file_path)\n",
        "\n",
        "        # Check if 'prediction' column exists\n",
        "        if 'prediction' in df.columns:\n",
        "            # Count the number of positive and negative comments\n",
        "            positive_count = df['prediction'].value_counts().get('positive', 0)\n",
        "            total_count = len(df['prediction'])\n",
        "            positive_percentage = (positive_count / total_count) * 100 if total_count > 0 else 0\n",
        "\n",
        "            # Append the results to the summary list\n",
        "            results_summary.append({'filename': filename, 'positive_percentage': positive_percentage})\n",
        "\n",
        "            print(f\"File: {filename}, Positive Percentage: {positive_percentage:.2f}%\")\n",
        "        else:\n",
        "            print(f\"'prediction' column not found in {filename}, skipping file.\")\n",
        "    else:\n",
        "        print(f\"File {filename} does not exist.\")\n",
        "\n",
        "# Create a DataFrame from the summary results\n",
        "summary_df = pd.DataFrame(results_summary)\n",
        "\n",
        "# Save the summary DataFrame to a new CSV file\n",
        "summary_df.to_csv(os.path.join(directory, 'summary_results.csv'), index=False)\n",
        "\n",
        "print(\"Summary results saved to 'summary_results.csv'\")"
      ]
    }
  ]
}