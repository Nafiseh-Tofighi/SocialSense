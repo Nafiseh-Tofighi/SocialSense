{
  "nbformat": 4,
  "nbformat_minor": 0,
  "metadata": {
    "colab": {
      "provenance": []
    },
    "kernelspec": {
      "name": "python3",
      "display_name": "Python 3"
    },
    "language_info": {
      "name": "python"
    }
  },
  "cells": [
    {
      "cell_type": "code",
      "execution_count": null,
      "metadata": {
        "id": "6txxkkaCL9mn"
      },
      "outputs": [],
      "source": [
        "import pandas as pd\n",
        "from scipy.stats import pearsonr, spearmanr, kendalltau\n",
        "\n",
        "# Read the first CSV file\n",
        "predictions_df = pd.read_csv('summary_results.csv', header=None, names=['name', 'predicted_value'])\n",
        "\n",
        "# Read the second CSV file\n",
        "labels_df = pd.read_csv('/content/SocialSense-Black.csv', header=None)\n",
        "\n",
        "# Convert the predicted values to float\n",
        "# print(predictions_df['predicted_value'])\n",
        "predictions_df['predicted_value'] = predictions_df['predicted_value'][1:].astype(float)\n",
        "\n",
        "# Assuming that the labels are in the third column (index 2) of the second file\n",
        "labels = labels_df.iloc[1:, 2]\n",
        "\n",
        "# Map 'p' to 100 and 'n' to 0\n",
        "labels = labels.map({'p': 100, 'n': 0})\n",
        "\n",
        "# Extract predicted values from the predictions DataFrame\n",
        "predicted_values = predictions_df['predicted_value'][1:]\n",
        "\n",
        "# print(type(predicted_values[1]), type(labels[1]))\n",
        "# print(len(predicted_values), len(labels))\n",
        "print(predicted_values, labels)\n",
        "\n",
        "\n",
        "# Calculate correlation metrics\n",
        "pearson_corr, _ = pearsonr(predicted_values, labels)\n",
        "spearman_corr, _ = spearmanr(predicted_values, labels)\n",
        "kendall_corr, _ = kendalltau(predicted_values, labels)\n",
        "\n",
        "# Output the correlation metrics\n",
        "print(f'Pearson correlation: {pearson_corr}')\n",
        "print(f'Spearman correlation: {spearman_corr}')"
      ]
    }
  ]
}