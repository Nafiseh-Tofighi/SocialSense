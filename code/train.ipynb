{
  "nbformat": 4,
  "nbformat_minor": 0,
  "metadata": {
    "colab": {
      "provenance": []
    },
    "kernelspec": {
      "name": "python3",
      "display_name": "Python 3"
    },
    "language_info": {
      "name": "python"
    }
  },
  "cells": [
    {
      "cell_type": "code",
      "execution_count": null,
      "metadata": {
        "id": "m7gXjp_EHqmF"
      },
      "outputs": [],
      "source": [
        "!pip install transformers torch datasets\n",
        "!pip install transformers==4.21.0\n",
        "!pip install accelerate==0.21.0"
      ]
    },
    {
      "cell_type": "code",
      "source": [
        "from datasets import load_dataset\n",
        "from transformers import AutoTokenizer\n",
        "import torch\n",
        "from transformers import AutoModelForSequenceClassification, Trainer, TrainingArguments\n",
        "\n",
        "# Load the IMDb dataset\n",
        "dataset = load_dataset('imdb')\n",
        "\n",
        "# Initialize the tokenizer\n",
        "tokenizer = AutoTokenizer.from_pretrained('bert-base-uncased')\n",
        "\n",
        "# Tokenize the dataset\n",
        "def tokenize_function(examples):\n",
        "    return tokenizer(examples['text'], padding='max_length', truncation=True)\n",
        "\n",
        "tokenized_datasets = dataset.map(tokenize_function, batched=True)\n",
        "\n",
        "# Rename columns to match the model's expected input\n",
        "tokenized_datasets = tokenized_datasets.rename_column(\"label\", \"labels\")\n",
        "tokenized_datasets.set_format(\"torch\", columns=[\"input_ids\", \"attention_mask\", \"labels\"])\n",
        "\n",
        "# Shuffle the datasets to ensure a representative subset\n",
        "tokenized_datasets['train'] = tokenized_datasets['train'].shuffle(seed=42)\n",
        "tokenized_datasets['test'] = tokenized_datasets['test'].shuffle(seed=42)\n",
        "\n",
        "# Split the dataset in half\n",
        "train_size = len(tokenized_datasets['train'])\n",
        "test_size = len(tokenized_datasets['test'])\n",
        "\n",
        "small_train_dataset = tokenized_datasets['train'].select(range(train_size))\n",
        "small_test_dataset = tokenized_datasets['test'].select(range(test_size))"
      ],
      "metadata": {
        "id": "T4G_Bz8dH0E0"
      },
      "execution_count": null,
      "outputs": []
    },
    {
      "cell_type": "code",
      "source": [
        "# Load the pretrained BERT model for sequence classification\n",
        "model = AutoModelForSequenceClassification.from_pretrained('bert-base-uncased', num_labels=2)\n",
        "\n",
        "# Define training arguments\n",
        "training_args = TrainingArguments(\n",
        "    output_dir='./results',          # Output directory\n",
        "    num_train_epochs=3,              # Number of training epochs\n",
        "    per_device_train_batch_size=8,   # Batch size for training\n",
        "    per_device_eval_batch_size=8,    # Batch size for evaluation\n",
        "    warmup_steps=500,                # Number of warmup steps\n",
        "    weight_decay=0.01,               # Strength of weight decay\n",
        "    logging_dir='./logs',            # Directory for storing logs\n",
        "    logging_steps=10,\n",
        "    evaluation_strategy=\"epoch\"\n",
        ")\n",
        "\n",
        "# Create a Trainer instance\n",
        "trainer = Trainer(\n",
        "    model=model,                         # The Transformers model to be trained\n",
        "    args=training_args,                  # Training arguments\n",
        "    train_dataset=small_train_dataset,   # Training dataset\n",
        "    eval_dataset=small_test_dataset      # Evaluation dataset\n",
        ")\n",
        "\n",
        "# Train the model\n",
        "trainer.train()"
      ],
      "metadata": {
        "id": "6ifP2kSVIFt3"
      },
      "execution_count": null,
      "outputs": []
    }
  ]
}